{
  "nbformat": 4,
  "nbformat_minor": 0,
  "metadata": {
    "colab": {
      "provenance": []
    },
    "kernelspec": {
      "name": "python3",
      "display_name": "Python 3"
    },
    "language_info": {
      "name": "python"
    }
  },
  "cells": [
    {
      "cell_type": "code",
      "source": [
        "!pip install feature_engine"
      ],
      "metadata": {
        "colab": {
          "base_uri": "https://localhost:8080/"
        },
        "id": "cqNHAt9nVB_7",
        "outputId": "effeafcb-faea-4cb8-fee3-790477be1dbe"
      },
      "execution_count": 1,
      "outputs": [
        {
          "output_type": "stream",
          "name": "stdout",
          "text": [
            "Looking in indexes: https://pypi.org/simple, https://us-python.pkg.dev/colab-wheels/public/simple/\n",
            "Requirement already satisfied: feature_engine in /usr/local/lib/python3.8/dist-packages (1.5.2)\n",
            "Requirement already satisfied: scikit-learn>=1.0.0 in /usr/local/lib/python3.8/dist-packages (from feature_engine) (1.0.2)\n",
            "Requirement already satisfied: numpy>=1.18.2 in /usr/local/lib/python3.8/dist-packages (from feature_engine) (1.21.6)\n",
            "Requirement already satisfied: statsmodels>=0.11.1 in /usr/local/lib/python3.8/dist-packages (from feature_engine) (0.12.2)\n",
            "Requirement already satisfied: scipy>=1.4.1 in /usr/local/lib/python3.8/dist-packages (from feature_engine) (1.7.3)\n",
            "Requirement already satisfied: pandas>=1.0.3 in /usr/local/lib/python3.8/dist-packages (from feature_engine) (1.3.5)\n",
            "Requirement already satisfied: python-dateutil>=2.7.3 in /usr/local/lib/python3.8/dist-packages (from pandas>=1.0.3->feature_engine) (2.8.2)\n",
            "Requirement already satisfied: pytz>=2017.3 in /usr/local/lib/python3.8/dist-packages (from pandas>=1.0.3->feature_engine) (2022.7)\n",
            "Requirement already satisfied: threadpoolctl>=2.0.0 in /usr/local/lib/python3.8/dist-packages (from scikit-learn>=1.0.0->feature_engine) (3.1.0)\n",
            "Requirement already satisfied: joblib>=0.11 in /usr/local/lib/python3.8/dist-packages (from scikit-learn>=1.0.0->feature_engine) (1.2.0)\n",
            "Requirement already satisfied: patsy>=0.5 in /usr/local/lib/python3.8/dist-packages (from statsmodels>=0.11.1->feature_engine) (0.5.3)\n",
            "Requirement already satisfied: six in /usr/local/lib/python3.8/dist-packages (from patsy>=0.5->statsmodels>=0.11.1->feature_engine) (1.15.0)\n"
          ]
        }
      ]
    },
    {
      "cell_type": "code",
      "source": [
        "import numpy as np\n",
        "import pickle\n",
        "import pandas as pd\n",
        "from dataclasses import dataclass\n",
        "from sklearn.impute import KNNImputer\n",
        "from feature_engine.encoding import WoEEncoder\n",
        "from sklearn.linear_model import HuberRegressor\n",
        "from sklearn.metrics import roc_auc_score"
      ],
      "metadata": {
        "id": "EnTomeaLKgu6"
      },
      "execution_count": 2,
      "outputs": []
    },
    {
      "cell_type": "code",
      "execution_count": 3,
      "metadata": {
        "colab": {
          "base_uri": "https://localhost:8080/"
        },
        "id": "9a3IkqeOJQ3B",
        "outputId": "07ab00c1-a8c6-44fc-9670-617d8956bd83"
      },
      "outputs": [
        {
          "output_type": "stream",
          "name": "stdout",
          "text": [
            "Drive already mounted at /content/drive; to attempt to forcibly remount, call drive.mount(\"/content/drive\", force_remount=True).\n"
          ]
        }
      ],
      "source": [
        "# Mount to Google Drive\n",
        "from google.colab import drive\n",
        "drive.mount('/content/drive')"
      ]
    },
    {
      "cell_type": "code",
      "source": [
        "root = '/content/drive/MyDrive/ML_final'\n",
        "TRAIN_FILE = 'train.csv'\n",
        "TEST_FILE = 'test.csv'\n",
        "SUB_FILE = 'sample_submission.csv'\n",
        "MODEL_FILE = 'models.pckl'"
      ],
      "metadata": {
        "id": "KFZhqHPlKee1"
      },
      "execution_count": 4,
      "outputs": []
    },
    {
      "cell_type": "code",
      "source": [
        "train_df = pd.read_csv(root + '/' + TRAIN_FILE)\n",
        "test_df = pd.read_csv(root + '/' + TEST_FILE)\n",
        "submission = pd.read_csv(root + '/' + SUB_FILE)"
      ],
      "metadata": {
        "id": "nj2dZTN9VWoG"
      },
      "execution_count": 5,
      "outputs": []
    },
    {
      "cell_type": "code",
      "source": [
        "# Reference: https://www.kaggle.com/code/medali1992/tps-aug-logistic-regression\n",
        "\n",
        "def preprocessing(df_train, df_test):\n",
        "    data = pd.concat([df_train, df_test])\n",
        "\n",
        "    # Create three new attributes: m3_missing, m5_missing and area\n",
        "    data['m3_missing'] = data['measurement_3'].isnull().astype(np.int8)\n",
        "    data['m5_missing'] = data['measurement_5'].isnull().astype(np.int8)\n",
        "    data['area'] = data['attribute_2'] * data['attribute_3']\n",
        "\n",
        "    feature = [f for f in df_test.columns\n",
        "               if f.startswith('measurement') or f == 'loading']\n",
        "\n",
        "    # dictionnary of dictionnaries\n",
        "    # (for the 11 best correlated measurement columns),\n",
        "    # we will use the dictionnaries below to select\n",
        "    # the best correlated columns according to the product code\n",
        "    # Only for 'measurement_17' we make a 'manual' selection :\n",
        "\n",
        "    full_fill_dict = {}\n",
        "    full_fill_dict['measurement_17'] = {\n",
        "        'A': ['measurement_5', 'measurement_6',\n",
        "              'measurement_8'],\n",
        "        'B': ['measurement_4', 'measurement_5',\n",
        "              'measurement_7'],\n",
        "        'C': ['measurement_5', 'measurement_7',\n",
        "              'measurement_8', 'measurement_9'],\n",
        "        'D': ['measurement_5', 'measurement_6',\n",
        "              'measurement_7', 'measurement_8'],\n",
        "        'E': ['measurement_4', 'measurement_5',\n",
        "              'measurement_6', 'measurement_8'],\n",
        "        'F': ['measurement_4', 'measurement_5',\n",
        "              'measurement_6', 'measurement_7'],\n",
        "        'G': ['measurement_4', 'measurement_6',\n",
        "              'measurement_8', 'measurement_9'],\n",
        "        'H': ['measurement_4', 'measurement_5',\n",
        "              'measurement_7', 'measurement_8',\n",
        "              'measurement_9'],\n",
        "        'I': ['measurement_3', 'measurement_7',\n",
        "              'measurement_8']\n",
        "    }\n",
        "\n",
        "    # collect the name of the next 10 best measurement columns\n",
        "    # sorted by correlation (except 17 already done above):\n",
        "    col = [col for col in df_test.columns if 'measurement' not in col] + \\\n",
        "          ['loading', 'm3_missing', 'm5_missing']\n",
        "\n",
        "    a = []\n",
        "    b = []\n",
        "\n",
        "    for x in range(3, 17):\n",
        "        corr = np.absolute(data.drop(col, axis=1).corr()[f'measurement_{x}']).sort_values(ascending=False)\n",
        "        # we add the 3 first lines of the correlation values to get the \"most correlated\"\n",
        "        a.append(np.round(np.sum(corr[1:4]), 3))\n",
        "        b.append(f'measurement_{x}')\n",
        "\n",
        "    c = pd.DataFrame()\n",
        "    c['Selected columns'] = b\n",
        "    c['correlation total'] = a\n",
        "    c = c.sort_values(by='correlation total', ascending=False).reset_index(drop=True)\n",
        "    print(f'Columns selected by correlation sum of the 3 first rows: ')\n",
        "    display(c.head(10))\n",
        "\n",
        "    for i in range(10):\n",
        "        measurement_col = 'measurement_' + c.iloc[i, 0][12:]  # we select the next best correlated column\n",
        "        fill_dict = {}\n",
        "        for x in data.product_code.unique() : \n",
        "            corr = np.absolute(data[data.product_code == x].drop(col, axis=1).corr()[measurement_col]).sort_values(ascending=False)\n",
        "            measurement_col_dic = {}\n",
        "            measurement_col_dic[measurement_col] = corr[1:5].index.tolist()\n",
        "            fill_dict[x] = measurement_col_dic[measurement_col]\n",
        "        full_fill_dict[measurement_col] = fill_dict\n",
        "\n",
        "    feature = [f for f in data.columns if f.startswith('measurement') or f=='loading']\n",
        "    print('failure' in feature)\n",
        "    nullValue_cols = [col for col in df_train.columns if df_train[col].isnull().sum()!=0]\n",
        "\n",
        "    for code in data.product_code.unique():\n",
        "        total_na_filled_by_linear_model = 0\n",
        "        print(f'\\n-------- Product code {code} ----------\\n')\n",
        "        print(f'filled by linear model :')\n",
        "        for measurement_col in list(full_fill_dict.keys()):\n",
        "            tmp = data[data.product_code == code]\n",
        "            column = full_fill_dict[measurement_col][code]\n",
        "            tmp_train = tmp[column+[measurement_col]].dropna(how='any')\n",
        "            tmp_test = tmp[(tmp[column].isnull().sum(axis=1)==0)&(tmp[measurement_col].isnull())]\n",
        "\n",
        "            model = HuberRegressor(epsilon=1.9)\n",
        "            model.fit(tmp_train[column], tmp_train[measurement_col])\n",
        "            data.loc[(data.product_code==code)&(data[column].isnull().sum(axis=1)==0)&(data[measurement_col].isnull()),measurement_col] = model.predict(tmp_test[column])\n",
        "            print(f'{measurement_col} : {len(tmp_test)}')\n",
        "            total_na_filled_by_linear_model += len(tmp_test)\n",
        "\n",
        "        # others NA columns:\n",
        "        NA = data.loc[data[\"product_code\"] == code,nullValue_cols ].isnull().sum().sum()\n",
        "        model1 = KNNImputer(n_neighbors=3)\n",
        "        data.loc[data.product_code==code, feature] = model1.fit_transform(data.loc[data.product_code==code, feature])\n",
        "        print(f'\\n{total_na_filled_by_linear_model} filled by linear model ') \n",
        "        print(f'{NA} filled by KNN ')\n",
        "\n",
        "    data['measurement_avg'] = data[[f'measurement_{i}' for i in range(3, 17)]].mean(axis=1)\n",
        "    data['measurement_std'] = data[[f'measurement_{i}' for i in range(3, 17)]].std(axis=1)\n",
        "    data['measurement_median'] = data[[f'measurement_{i}' for i in range(3, 17)]].median(axis=1)\n",
        "    data['measurement_max'] = data[[f'measurement_{i}' for i in range(3, 17)]].max(axis=1)\n",
        "    data['measurement_min'] = data[[f'measurement_{i}' for i in range(3, 17)]].min(axis=1)\n",
        "    data['measurement_skew'] = data[[f'measurement_{i}' for i in range(3, 17)]].skew(axis=1)\n",
        "    \n",
        "    \n",
        "    \n",
        "    df_train = data.iloc[:df_train.shape[0],:]\n",
        "    df_test = data.iloc[df_train.shape[0]:,:]\n",
        "\n",
        "    woe_encoder = WoEEncoder(variables=['attribute_0'])\n",
        "    woe_encoder.fit(df_train, df_train['failure'])\n",
        "    df_train = woe_encoder.transform(df_train)\n",
        "    df_test = woe_encoder.transform(df_test)\n",
        "\n",
        "    features = ['loading', 'attribute_0', 'measurement_17', 'measurement_0', 'measurement_1', 'measurement_2', 'area', 'm3_missing', 'm5_missing', 'measurement_avg', 'measurement_std', 'measurement_median', 'measurement_min', 'measurement_skew']\n",
        "    \n",
        "    return df_train, df_test, features\n",
        "\n",
        "df_train, df_test, features = preprocessing(train_df, test_df)"
      ],
      "metadata": {
        "colab": {
          "base_uri": "https://localhost:8080/",
          "height": 1000
        },
        "id": "UWFbRA6rVGaX",
        "outputId": "fd2d8aab-8bc9-4456-d144-d0a125f5eb79"
      },
      "execution_count": 6,
      "outputs": [
        {
          "output_type": "stream",
          "name": "stdout",
          "text": [
            "Columns selected by correlation sum of the 3 first rows: \n"
          ]
        },
        {
          "output_type": "display_data",
          "data": {
            "text/plain": [
              "  Selected columns  correlation total\n",
              "0    measurement_8              0.454\n",
              "1   measurement_11              0.395\n",
              "2    measurement_5              0.386\n",
              "3    measurement_6              0.365\n",
              "4    measurement_7              0.336\n",
              "5    measurement_4              0.331\n",
              "6   measurement_15              0.301\n",
              "7   measurement_10              0.300\n",
              "8   measurement_16              0.252\n",
              "9   measurement_14              0.225"
            ],
            "text/html": [
              "\n",
              "  <div id=\"df-7f80a52d-095b-4c6a-b619-6e7e5d0e007a\">\n",
              "    <div class=\"colab-df-container\">\n",
              "      <div>\n",
              "<style scoped>\n",
              "    .dataframe tbody tr th:only-of-type {\n",
              "        vertical-align: middle;\n",
              "    }\n",
              "\n",
              "    .dataframe tbody tr th {\n",
              "        vertical-align: top;\n",
              "    }\n",
              "\n",
              "    .dataframe thead th {\n",
              "        text-align: right;\n",
              "    }\n",
              "</style>\n",
              "<table border=\"1\" class=\"dataframe\">\n",
              "  <thead>\n",
              "    <tr style=\"text-align: right;\">\n",
              "      <th></th>\n",
              "      <th>Selected columns</th>\n",
              "      <th>correlation total</th>\n",
              "    </tr>\n",
              "  </thead>\n",
              "  <tbody>\n",
              "    <tr>\n",
              "      <th>0</th>\n",
              "      <td>measurement_8</td>\n",
              "      <td>0.454</td>\n",
              "    </tr>\n",
              "    <tr>\n",
              "      <th>1</th>\n",
              "      <td>measurement_11</td>\n",
              "      <td>0.395</td>\n",
              "    </tr>\n",
              "    <tr>\n",
              "      <th>2</th>\n",
              "      <td>measurement_5</td>\n",
              "      <td>0.386</td>\n",
              "    </tr>\n",
              "    <tr>\n",
              "      <th>3</th>\n",
              "      <td>measurement_6</td>\n",
              "      <td>0.365</td>\n",
              "    </tr>\n",
              "    <tr>\n",
              "      <th>4</th>\n",
              "      <td>measurement_7</td>\n",
              "      <td>0.336</td>\n",
              "    </tr>\n",
              "    <tr>\n",
              "      <th>5</th>\n",
              "      <td>measurement_4</td>\n",
              "      <td>0.331</td>\n",
              "    </tr>\n",
              "    <tr>\n",
              "      <th>6</th>\n",
              "      <td>measurement_15</td>\n",
              "      <td>0.301</td>\n",
              "    </tr>\n",
              "    <tr>\n",
              "      <th>7</th>\n",
              "      <td>measurement_10</td>\n",
              "      <td>0.300</td>\n",
              "    </tr>\n",
              "    <tr>\n",
              "      <th>8</th>\n",
              "      <td>measurement_16</td>\n",
              "      <td>0.252</td>\n",
              "    </tr>\n",
              "    <tr>\n",
              "      <th>9</th>\n",
              "      <td>measurement_14</td>\n",
              "      <td>0.225</td>\n",
              "    </tr>\n",
              "  </tbody>\n",
              "</table>\n",
              "</div>\n",
              "      <button class=\"colab-df-convert\" onclick=\"convertToInteractive('df-7f80a52d-095b-4c6a-b619-6e7e5d0e007a')\"\n",
              "              title=\"Convert this dataframe to an interactive table.\"\n",
              "              style=\"display:none;\">\n",
              "        \n",
              "  <svg xmlns=\"http://www.w3.org/2000/svg\" height=\"24px\"viewBox=\"0 0 24 24\"\n",
              "       width=\"24px\">\n",
              "    <path d=\"M0 0h24v24H0V0z\" fill=\"none\"/>\n",
              "    <path d=\"M18.56 5.44l.94 2.06.94-2.06 2.06-.94-2.06-.94-.94-2.06-.94 2.06-2.06.94zm-11 1L8.5 8.5l.94-2.06 2.06-.94-2.06-.94L8.5 2.5l-.94 2.06-2.06.94zm10 10l.94 2.06.94-2.06 2.06-.94-2.06-.94-.94-2.06-.94 2.06-2.06.94z\"/><path d=\"M17.41 7.96l-1.37-1.37c-.4-.4-.92-.59-1.43-.59-.52 0-1.04.2-1.43.59L10.3 9.45l-7.72 7.72c-.78.78-.78 2.05 0 2.83L4 21.41c.39.39.9.59 1.41.59.51 0 1.02-.2 1.41-.59l7.78-7.78 2.81-2.81c.8-.78.8-2.07 0-2.86zM5.41 20L4 18.59l7.72-7.72 1.47 1.35L5.41 20z\"/>\n",
              "  </svg>\n",
              "      </button>\n",
              "      \n",
              "  <style>\n",
              "    .colab-df-container {\n",
              "      display:flex;\n",
              "      flex-wrap:wrap;\n",
              "      gap: 12px;\n",
              "    }\n",
              "\n",
              "    .colab-df-convert {\n",
              "      background-color: #E8F0FE;\n",
              "      border: none;\n",
              "      border-radius: 50%;\n",
              "      cursor: pointer;\n",
              "      display: none;\n",
              "      fill: #1967D2;\n",
              "      height: 32px;\n",
              "      padding: 0 0 0 0;\n",
              "      width: 32px;\n",
              "    }\n",
              "\n",
              "    .colab-df-convert:hover {\n",
              "      background-color: #E2EBFA;\n",
              "      box-shadow: 0px 1px 2px rgba(60, 64, 67, 0.3), 0px 1px 3px 1px rgba(60, 64, 67, 0.15);\n",
              "      fill: #174EA6;\n",
              "    }\n",
              "\n",
              "    [theme=dark] .colab-df-convert {\n",
              "      background-color: #3B4455;\n",
              "      fill: #D2E3FC;\n",
              "    }\n",
              "\n",
              "    [theme=dark] .colab-df-convert:hover {\n",
              "      background-color: #434B5C;\n",
              "      box-shadow: 0px 1px 3px 1px rgba(0, 0, 0, 0.15);\n",
              "      filter: drop-shadow(0px 1px 2px rgba(0, 0, 0, 0.3));\n",
              "      fill: #FFFFFF;\n",
              "    }\n",
              "  </style>\n",
              "\n",
              "      <script>\n",
              "        const buttonEl =\n",
              "          document.querySelector('#df-7f80a52d-095b-4c6a-b619-6e7e5d0e007a button.colab-df-convert');\n",
              "        buttonEl.style.display =\n",
              "          google.colab.kernel.accessAllowed ? 'block' : 'none';\n",
              "\n",
              "        async function convertToInteractive(key) {\n",
              "          const element = document.querySelector('#df-7f80a52d-095b-4c6a-b619-6e7e5d0e007a');\n",
              "          const dataTable =\n",
              "            await google.colab.kernel.invokeFunction('convertToInteractive',\n",
              "                                                     [key], {});\n",
              "          if (!dataTable) return;\n",
              "\n",
              "          const docLinkHtml = 'Like what you see? Visit the ' +\n",
              "            '<a target=\"_blank\" href=https://colab.research.google.com/notebooks/data_table.ipynb>data table notebook</a>'\n",
              "            + ' to learn more about interactive tables.';\n",
              "          element.innerHTML = '';\n",
              "          dataTable['output_type'] = 'display_data';\n",
              "          await google.colab.output.renderOutput(dataTable, element);\n",
              "          const docLink = document.createElement('div');\n",
              "          docLink.innerHTML = docLinkHtml;\n",
              "          element.appendChild(docLink);\n",
              "        }\n",
              "      </script>\n",
              "    </div>\n",
              "  </div>\n",
              "  "
            ]
          },
          "metadata": {}
        },
        {
          "output_type": "stream",
          "name": "stdout",
          "text": [
            "False\n",
            "\n",
            "-------- Product code A ----------\n",
            "\n",
            "filled by linear model :\n",
            "measurement_17 : 386\n",
            "measurement_8 : 167\n",
            "measurement_11 : 225\n"
          ]
        },
        {
          "output_type": "stream",
          "name": "stderr",
          "text": [
            "/usr/local/lib/python3.8/dist-packages/sklearn/linear_model/_huber.py:332: ConvergenceWarning: lbfgs failed to converge (status=1):\n",
            "STOP: TOTAL NO. of ITERATIONS REACHED LIMIT.\n",
            "\n",
            "Increase the number of iterations (max_iter) or scale the data as shown in:\n",
            "    https://scikit-learn.org/stable/modules/preprocessing.html\n",
            "  self.n_iter_ = _check_optimize_result(\"lbfgs\", opt_res, self.max_iter)\n",
            "/usr/local/lib/python3.8/dist-packages/sklearn/linear_model/_huber.py:332: ConvergenceWarning: lbfgs failed to converge (status=1):\n",
            "STOP: TOTAL NO. of ITERATIONS REACHED LIMIT.\n",
            "\n",
            "Increase the number of iterations (max_iter) or scale the data as shown in:\n",
            "    https://scikit-learn.org/stable/modules/preprocessing.html\n",
            "  self.n_iter_ = _check_optimize_result(\"lbfgs\", opt_res, self.max_iter)\n"
          ]
        },
        {
          "output_type": "stream",
          "name": "stdout",
          "text": [
            "measurement_5 : 113\n",
            "measurement_6 : 146\n",
            "measurement_7 : 153\n",
            "measurement_4 : 79\n",
            "measurement_15 : 273\n",
            "measurement_10 : 209\n",
            "measurement_16 : 293\n",
            "measurement_14 : 237\n",
            "\n",
            "2281 filled by linear model \n",
            "1568 filled by KNN \n",
            "\n",
            "-------- Product code B ----------\n",
            "\n",
            "filled by linear model :\n",
            "measurement_17 : 418\n",
            "measurement_8 : 165\n",
            "measurement_11 : 220\n",
            "measurement_5 : 83\n",
            "measurement_6 : 106\n",
            "measurement_7 : 176\n",
            "measurement_4 : 80\n",
            "measurement_15 : 294\n",
            "measurement_10 : 197\n",
            "measurement_16 : 358\n",
            "measurement_14 : 330\n",
            "\n",
            "2427 filled by linear model \n",
            "1548 filled by KNN \n",
            "\n",
            "-------- Product code C ----------\n",
            "\n",
            "filled by linear model :\n",
            "measurement_17 : 391\n",
            "measurement_8 : 211\n",
            "measurement_11 : 231\n",
            "measurement_5 : 141\n",
            "measurement_6 : 150\n",
            "measurement_7 : 140\n"
          ]
        },
        {
          "output_type": "stream",
          "name": "stderr",
          "text": [
            "/usr/local/lib/python3.8/dist-packages/sklearn/linear_model/_huber.py:332: ConvergenceWarning: lbfgs failed to converge (status=1):\n",
            "STOP: TOTAL NO. of ITERATIONS REACHED LIMIT.\n",
            "\n",
            "Increase the number of iterations (max_iter) or scale the data as shown in:\n",
            "    https://scikit-learn.org/stable/modules/preprocessing.html\n",
            "  self.n_iter_ = _check_optimize_result(\"lbfgs\", opt_res, self.max_iter)\n"
          ]
        },
        {
          "output_type": "stream",
          "name": "stdout",
          "text": [
            "measurement_4 : 110\n",
            "measurement_15 : 319\n",
            "measurement_10 : 262\n",
            "measurement_16 : 343\n",
            "measurement_14 : 340\n",
            "\n",
            "2638 filled by linear model \n",
            "1706 filled by KNN \n",
            "\n",
            "-------- Product code D ----------\n",
            "\n",
            "filled by linear model :\n",
            "measurement_17 : 398\n",
            "measurement_8 : 146\n",
            "measurement_11 : 265\n",
            "measurement_5 : 87\n",
            "measurement_6 : 118\n",
            "measurement_7 : 146\n",
            "measurement_4 : 88\n",
            "measurement_15 : 313\n",
            "measurement_10 : 174\n",
            "measurement_16 : 322\n",
            "measurement_14 : 316\n",
            "\n",
            "2373 filled by linear model \n",
            "1600 filled by KNN \n",
            "\n",
            "-------- Product code E ----------\n",
            "\n",
            "filled by linear model :\n",
            "measurement_17 : 429\n"
          ]
        },
        {
          "output_type": "stream",
          "name": "stderr",
          "text": [
            "/usr/local/lib/python3.8/dist-packages/sklearn/linear_model/_huber.py:332: ConvergenceWarning: lbfgs failed to converge (status=1):\n",
            "STOP: TOTAL NO. of ITERATIONS REACHED LIMIT.\n",
            "\n",
            "Increase the number of iterations (max_iter) or scale the data as shown in:\n",
            "    https://scikit-learn.org/stable/modules/preprocessing.html\n",
            "  self.n_iter_ = _check_optimize_result(\"lbfgs\", opt_res, self.max_iter)\n"
          ]
        },
        {
          "output_type": "stream",
          "name": "stdout",
          "text": [
            "measurement_8 : 171\n",
            "measurement_11 : 244\n"
          ]
        },
        {
          "output_type": "stream",
          "name": "stderr",
          "text": [
            "/usr/local/lib/python3.8/dist-packages/sklearn/linear_model/_huber.py:332: ConvergenceWarning: lbfgs failed to converge (status=1):\n",
            "STOP: TOTAL NO. of ITERATIONS REACHED LIMIT.\n",
            "\n",
            "Increase the number of iterations (max_iter) or scale the data as shown in:\n",
            "    https://scikit-learn.org/stable/modules/preprocessing.html\n",
            "  self.n_iter_ = _check_optimize_result(\"lbfgs\", opt_res, self.max_iter)\n",
            "/usr/local/lib/python3.8/dist-packages/sklearn/linear_model/_huber.py:332: ConvergenceWarning: lbfgs failed to converge (status=1):\n",
            "STOP: TOTAL NO. of ITERATIONS REACHED LIMIT.\n",
            "\n",
            "Increase the number of iterations (max_iter) or scale the data as shown in:\n",
            "    https://scikit-learn.org/stable/modules/preprocessing.html\n",
            "  self.n_iter_ = _check_optimize_result(\"lbfgs\", opt_res, self.max_iter)\n"
          ]
        },
        {
          "output_type": "stream",
          "name": "stdout",
          "text": [
            "measurement_5 : 116\n",
            "measurement_6 : 127\n",
            "measurement_7 : 185\n",
            "measurement_4 : 105\n",
            "measurement_15 : 315\n",
            "measurement_10 : 193\n",
            "measurement_16 : 316\n",
            "measurement_14 : 297\n",
            "\n",
            "2498 filled by linear model \n",
            "1634 filled by KNN \n",
            "\n",
            "-------- Product code F ----------\n",
            "\n",
            "filled by linear model :\n",
            "measurement_17 : 420\n",
            "measurement_8 : 194\n",
            "measurement_11 : 226\n"
          ]
        },
        {
          "output_type": "stream",
          "name": "stderr",
          "text": [
            "/usr/local/lib/python3.8/dist-packages/sklearn/linear_model/_huber.py:332: ConvergenceWarning: lbfgs failed to converge (status=1):\n",
            "STOP: TOTAL NO. of ITERATIONS REACHED LIMIT.\n",
            "\n",
            "Increase the number of iterations (max_iter) or scale the data as shown in:\n",
            "    https://scikit-learn.org/stable/modules/preprocessing.html\n",
            "  self.n_iter_ = _check_optimize_result(\"lbfgs\", opt_res, self.max_iter)\n"
          ]
        },
        {
          "output_type": "stream",
          "name": "stdout",
          "text": [
            "measurement_5 : 90\n",
            "measurement_6 : 137\n",
            "measurement_7 : 147\n",
            "measurement_4 : 91\n",
            "measurement_15 : 333\n",
            "measurement_10 : 186\n",
            "measurement_16 : 356\n",
            "measurement_14 : 348\n",
            "\n",
            "2528 filled by linear model \n",
            "1545 filled by KNN \n",
            "\n",
            "-------- Product code G ----------\n",
            "\n",
            "filled by linear model :\n",
            "measurement_17 : 373\n"
          ]
        },
        {
          "output_type": "stream",
          "name": "stderr",
          "text": [
            "/usr/local/lib/python3.8/dist-packages/sklearn/linear_model/_huber.py:332: ConvergenceWarning: lbfgs failed to converge (status=1):\n",
            "STOP: TOTAL NO. of ITERATIONS REACHED LIMIT.\n",
            "\n",
            "Increase the number of iterations (max_iter) or scale the data as shown in:\n",
            "    https://scikit-learn.org/stable/modules/preprocessing.html\n",
            "  self.n_iter_ = _check_optimize_result(\"lbfgs\", opt_res, self.max_iter)\n"
          ]
        },
        {
          "output_type": "stream",
          "name": "stdout",
          "text": [
            "measurement_8 : 188\n",
            "measurement_11 : 221\n",
            "measurement_5 : 104\n",
            "measurement_6 : 146\n",
            "measurement_7 : 145\n"
          ]
        },
        {
          "output_type": "stream",
          "name": "stderr",
          "text": [
            "/usr/local/lib/python3.8/dist-packages/sklearn/linear_model/_huber.py:332: ConvergenceWarning: lbfgs failed to converge (status=1):\n",
            "STOP: TOTAL NO. of ITERATIONS REACHED LIMIT.\n",
            "\n",
            "Increase the number of iterations (max_iter) or scale the data as shown in:\n",
            "    https://scikit-learn.org/stable/modules/preprocessing.html\n",
            "  self.n_iter_ = _check_optimize_result(\"lbfgs\", opt_res, self.max_iter)\n"
          ]
        },
        {
          "output_type": "stream",
          "name": "stdout",
          "text": [
            "measurement_4 : 93\n",
            "measurement_15 : 299\n",
            "measurement_10 : 226\n",
            "measurement_16 : 343\n",
            "measurement_14 : 268\n",
            "\n",
            "2406 filled by linear model \n",
            "1518 filled by KNN \n",
            "\n",
            "-------- Product code H ----------\n",
            "\n",
            "filled by linear model :\n",
            "measurement_17 : 361\n"
          ]
        },
        {
          "output_type": "stream",
          "name": "stderr",
          "text": [
            "/usr/local/lib/python3.8/dist-packages/sklearn/linear_model/_huber.py:332: ConvergenceWarning: lbfgs failed to converge (status=1):\n",
            "STOP: TOTAL NO. of ITERATIONS REACHED LIMIT.\n",
            "\n",
            "Increase the number of iterations (max_iter) or scale the data as shown in:\n",
            "    https://scikit-learn.org/stable/modules/preprocessing.html\n",
            "  self.n_iter_ = _check_optimize_result(\"lbfgs\", opt_res, self.max_iter)\n"
          ]
        },
        {
          "output_type": "stream",
          "name": "stdout",
          "text": [
            "measurement_8 : 147\n",
            "measurement_11 : 205\n"
          ]
        },
        {
          "output_type": "stream",
          "name": "stderr",
          "text": [
            "/usr/local/lib/python3.8/dist-packages/sklearn/linear_model/_huber.py:332: ConvergenceWarning: lbfgs failed to converge (status=1):\n",
            "STOP: TOTAL NO. of ITERATIONS REACHED LIMIT.\n",
            "\n",
            "Increase the number of iterations (max_iter) or scale the data as shown in:\n",
            "    https://scikit-learn.org/stable/modules/preprocessing.html\n",
            "  self.n_iter_ = _check_optimize_result(\"lbfgs\", opt_res, self.max_iter)\n"
          ]
        },
        {
          "output_type": "stream",
          "name": "stdout",
          "text": [
            "measurement_5 : 112\n"
          ]
        },
        {
          "output_type": "stream",
          "name": "stderr",
          "text": [
            "/usr/local/lib/python3.8/dist-packages/sklearn/linear_model/_huber.py:332: ConvergenceWarning: lbfgs failed to converge (status=1):\n",
            "STOP: TOTAL NO. of ITERATIONS REACHED LIMIT.\n",
            "\n",
            "Increase the number of iterations (max_iter) or scale the data as shown in:\n",
            "    https://scikit-learn.org/stable/modules/preprocessing.html\n",
            "  self.n_iter_ = _check_optimize_result(\"lbfgs\", opt_res, self.max_iter)\n"
          ]
        },
        {
          "output_type": "stream",
          "name": "stdout",
          "text": [
            "measurement_6 : 121\n",
            "measurement_7 : 158\n",
            "measurement_4 : 75\n",
            "measurement_15 : 299\n",
            "measurement_10 : 217\n",
            "measurement_16 : 340\n",
            "measurement_14 : 283\n",
            "\n",
            "2318 filled by linear model \n",
            "1565 filled by KNN \n",
            "\n",
            "-------- Product code I ----------\n",
            "\n",
            "filled by linear model :\n",
            "measurement_17 : 377\n",
            "measurement_8 : 192\n",
            "measurement_11 : 209\n"
          ]
        },
        {
          "output_type": "stream",
          "name": "stderr",
          "text": [
            "/usr/local/lib/python3.8/dist-packages/sklearn/linear_model/_huber.py:332: ConvergenceWarning: lbfgs failed to converge (status=1):\n",
            "STOP: TOTAL NO. of ITERATIONS REACHED LIMIT.\n",
            "\n",
            "Increase the number of iterations (max_iter) or scale the data as shown in:\n",
            "    https://scikit-learn.org/stable/modules/preprocessing.html\n",
            "  self.n_iter_ = _check_optimize_result(\"lbfgs\", opt_res, self.max_iter)\n",
            "/usr/local/lib/python3.8/dist-packages/sklearn/linear_model/_huber.py:332: ConvergenceWarning: lbfgs failed to converge (status=1):\n",
            "STOP: TOTAL NO. of ITERATIONS REACHED LIMIT.\n",
            "\n",
            "Increase the number of iterations (max_iter) or scale the data as shown in:\n",
            "    https://scikit-learn.org/stable/modules/preprocessing.html\n",
            "  self.n_iter_ = _check_optimize_result(\"lbfgs\", opt_res, self.max_iter)\n"
          ]
        },
        {
          "output_type": "stream",
          "name": "stdout",
          "text": [
            "measurement_5 : 119\n",
            "measurement_6 : 132\n",
            "measurement_7 : 136\n"
          ]
        },
        {
          "output_type": "stream",
          "name": "stderr",
          "text": [
            "/usr/local/lib/python3.8/dist-packages/sklearn/linear_model/_huber.py:332: ConvergenceWarning: lbfgs failed to converge (status=1):\n",
            "STOP: TOTAL NO. of ITERATIONS REACHED LIMIT.\n",
            "\n",
            "Increase the number of iterations (max_iter) or scale the data as shown in:\n",
            "    https://scikit-learn.org/stable/modules/preprocessing.html\n",
            "  self.n_iter_ = _check_optimize_result(\"lbfgs\", opt_res, self.max_iter)\n"
          ]
        },
        {
          "output_type": "stream",
          "name": "stdout",
          "text": [
            "measurement_4 : 89\n",
            "measurement_15 : 350\n",
            "measurement_10 : 246\n",
            "measurement_16 : 294\n",
            "measurement_14 : 283\n",
            "\n",
            "2427 filled by linear model \n",
            "1402 filled by KNN \n"
          ]
        }
      ]
    },
    {
      "cell_type": "code",
      "source": [
        "fit_features = ['loading', 'attribute_0', 'measurement_17', 'measurement_0', 'measurement_1', 'measurement_2', 'area', 'm3_missing', 'm5_missing', 'measurement_avg']"
      ],
      "metadata": {
        "id": "Ths9MKD-VouD"
      },
      "execution_count": 7,
      "outputs": []
    },
    {
      "cell_type": "code",
      "source": [
        "models = []\n",
        "with open(root + '/' + MODEL_FILE, \"rb\") as f:\n",
        "    while True:\n",
        "        try:\n",
        "            models.append(pickle.load(f))\n",
        "        except EOFError:\n",
        "            break"
      ],
      "metadata": {
        "id": "t8uhIzH-U0TM"
      },
      "execution_count": 8,
      "outputs": []
    },
    {
      "cell_type": "code",
      "source": [
        "# Average the prediction from 10 models\n",
        "preds = np.zeros(shape=(10, len(df_test)))\n",
        "for i in range(10):\n",
        "    clf = models[i]\n",
        "    preds[i] = clf.predict_proba(df_test[fit_features])[:, 1]\n",
        "\n",
        "preds = preds.sum(axis=0) / 10"
      ],
      "metadata": {
        "id": "29Fh70bwV8iw"
      },
      "execution_count": 9,
      "outputs": []
    },
    {
      "cell_type": "code",
      "source": [
        "submission['failure'] = preds\n",
        "submission['failure'] = submission['failure'].rank(pct=True).values\n",
        "submission.to_csv('109705004_3.csv', index=False)"
      ],
      "metadata": {
        "id": "V_2ojV7CWGRC"
      },
      "execution_count": 11,
      "outputs": []
    }
  ]
}